{
 "cells": [
  {
   "cell_type": "code",
   "execution_count": 1,
   "id": "b20da743",
   "metadata": {
    "_cell_guid": "b1076dfc-b9ad-4769-8c92-a6c4dae69d19",
    "_uuid": "8f2839f25d086af736a60e9eeb907d3b93b6e0e5",
    "execution": {
     "iopub.execute_input": "2024-02-17T16:41:52.202236Z",
     "iopub.status.busy": "2024-02-17T16:41:52.201890Z",
     "iopub.status.idle": "2024-02-17T16:42:04.853021Z",
     "shell.execute_reply": "2024-02-17T16:42:04.851421Z"
    },
    "papermill": {
     "duration": 12.662042,
     "end_time": "2024-02-17T16:42:04.855611",
     "exception": false,
     "start_time": "2024-02-17T16:41:52.193569",
     "status": "completed"
    },
    "tags": []
   },
   "outputs": [
    {
     "name": "stderr",
     "output_type": "stream",
     "text": [
      "2024-02-17 16:41:53.909545: E external/local_xla/xla/stream_executor/cuda/cuda_dnn.cc:9261] Unable to register cuDNN factory: Attempting to register factory for plugin cuDNN when one has already been registered\n",
      "2024-02-17 16:41:53.909641: E external/local_xla/xla/stream_executor/cuda/cuda_fft.cc:607] Unable to register cuFFT factory: Attempting to register factory for plugin cuFFT when one has already been registered\n",
      "2024-02-17 16:41:54.026392: E external/local_xla/xla/stream_executor/cuda/cuda_blas.cc:1515] Unable to register cuBLAS factory: Attempting to register factory for plugin cuBLAS when one has already been registered\n"
     ]
    }
   ],
   "source": [
    "import os\n",
    "import cv2\n",
    "import numpy as np\n",
    "import tensorflow as tf\n",
    "import matplotlib.pyplot as plt\n",
    "from tensorflow import keras\n",
    "from keras.models import Model, load_model\n",
    "from tensorflow.keras.applications import ResNet50\n",
    "from keras.layers import Dense, Input, GlobalAveragePooling2D\n",
    "from tensorflow.keras.applications.resnet50 import preprocess_input\n",
    "from keras.callbacks import ModelCheckpoint, EarlyStopping, ReduceLROnPlateau\n"
   ]
  },
  {
   "cell_type": "markdown",
   "id": "9612e56b",
   "metadata": {
    "papermill": {
     "duration": 0.006344,
     "end_time": "2024-02-17T16:42:04.869016",
     "exception": false,
     "start_time": "2024-02-17T16:42:04.862672",
     "status": "completed"
    },
    "tags": []
   },
   "source": [
    "# Directory Variables\n",
    "\n",
    "will change values based on environment we are in"
   ]
  },
  {
   "cell_type": "code",
   "execution_count": 2,
   "id": "a38eb962",
   "metadata": {
    "execution": {
     "iopub.execute_input": "2024-02-17T16:42:04.883521Z",
     "iopub.status.busy": "2024-02-17T16:42:04.882907Z",
     "iopub.status.idle": "2024-02-17T16:42:04.887461Z",
     "shell.execute_reply": "2024-02-17T16:42:04.886548Z"
    },
    "papermill": {
     "duration": 0.01383,
     "end_time": "2024-02-17T16:42:04.889396",
     "exception": false,
     "start_time": "2024-02-17T16:42:04.875566",
     "status": "completed"
    },
    "tags": []
   },
   "outputs": [],
   "source": [
    "train_val_path = \"/kaggle/input/new-plant-diseases-dataset/new plant diseases dataset(augmented)/New Plant Diseases Dataset(Augmented)/\"\n",
    "test_folder_path = \"/kaggle/input/new-plant-diseases-dataset/test/test/\""
   ]
  },
  {
   "cell_type": "code",
   "execution_count": 3,
   "id": "0a5a11ac",
   "metadata": {
    "execution": {
     "iopub.execute_input": "2024-02-17T16:42:04.904035Z",
     "iopub.status.busy": "2024-02-17T16:42:04.903717Z",
     "iopub.status.idle": "2024-02-17T16:42:04.908041Z",
     "shell.execute_reply": "2024-02-17T16:42:04.907005Z"
    },
    "papermill": {
     "duration": 0.014103,
     "end_time": "2024-02-17T16:42:04.910281",
     "exception": false,
     "start_time": "2024-02-17T16:42:04.896178",
     "status": "completed"
    },
    "tags": []
   },
   "outputs": [],
   "source": [
    "train_folder_path = train_val_path + \"train/\"\n",
    "val_folder_path = train_val_path + \"valid/\""
   ]
  },
  {
   "cell_type": "code",
   "execution_count": 4,
   "id": "82a3db34",
   "metadata": {
    "execution": {
     "iopub.execute_input": "2024-02-17T16:42:04.925364Z",
     "iopub.status.busy": "2024-02-17T16:42:04.925021Z",
     "iopub.status.idle": "2024-02-17T16:42:04.939454Z",
     "shell.execute_reply": "2024-02-17T16:42:04.938678Z"
    },
    "papermill": {
     "duration": 0.024183,
     "end_time": "2024-02-17T16:42:04.941381",
     "exception": false,
     "start_time": "2024-02-17T16:42:04.917198",
     "status": "completed"
    },
    "tags": []
   },
   "outputs": [],
   "source": [
    "class_names = os.listdir(train_folder_path)"
   ]
  },
  {
   "cell_type": "markdown",
   "id": "3acb54cf",
   "metadata": {
    "papermill": {
     "duration": 0.006893,
     "end_time": "2024-02-17T16:42:04.955187",
     "exception": false,
     "start_time": "2024-02-17T16:42:04.948294",
     "status": "completed"
    },
    "tags": []
   },
   "source": [
    "# Pre-processing"
   ]
  },
  {
   "cell_type": "code",
   "execution_count": 7,
   "id": "0376ffed",
   "metadata": {
    "execution": {
     "iopub.execute_input": "2024-02-17T16:42:09.630728Z",
     "iopub.status.busy": "2024-02-17T16:42:09.629861Z",
     "iopub.status.idle": "2024-02-17T16:42:09.640774Z",
     "shell.execute_reply": "2024-02-17T16:42:09.639909Z"
    },
    "papermill": {
     "duration": 0.023242,
     "end_time": "2024-02-17T16:42:09.642912",
     "exception": false,
     "start_time": "2024-02-17T16:42:09.619670",
     "status": "completed"
    },
    "tags": []
   },
   "outputs": [],
   "source": [
    "def train_data_generator(batch_size, shuffle=True):\n",
    "    train_img_paths = []\n",
    "\n",
    "    for i, label in enumerate(class_names):\n",
    "        label_folder_path = train_folder_path + label + '/'\n",
    "        for img_name in os.listdir(label_folder_path):\n",
    "            img_path = label_folder_path + img_name\n",
    "            train_img_paths.append((img_path, i))\n",
    "\n",
    "    while True:\n",
    "        if shuffle:\n",
    "            np.random.shuffle(train_img_paths)\n",
    "\n",
    "        for img_path_idx in range(0, len(train_img_paths), batch_size):\n",
    "            batch_paths = train_img_paths[img_path_idx:img_path_idx + batch_size]\n",
    "            batch = []\n",
    "            batch_y = []\n",
    "            for batch_img_path in batch_paths:\n",
    "                img = plt.imread(batch_img_path[0]) # img shape is (256, 256, 3)\n",
    "                # can add more pre-processing here\n",
    "                batch.append(img)\n",
    "                \n",
    "                y = [0 for _ in range(38)]\n",
    "                y[batch_img_path[1]] = 1\n",
    "                batch_y.append(y)\n",
    "            \n",
    "            yield np.array(batch), np.array(batch_y)"
   ]
  },
  {
   "cell_type": "code",
   "execution_count": 8,
   "id": "7e2f4225",
   "metadata": {
    "execution": {
     "iopub.execute_input": "2024-02-17T16:42:09.662161Z",
     "iopub.status.busy": "2024-02-17T16:42:09.661797Z",
     "iopub.status.idle": "2024-02-17T16:42:09.678686Z",
     "shell.execute_reply": "2024-02-17T16:42:09.677749Z"
    },
    "papermill": {
     "duration": 0.0292,
     "end_time": "2024-02-17T16:42:09.681184",
     "exception": false,
     "start_time": "2024-02-17T16:42:09.651984",
     "status": "completed"
    },
    "tags": []
   },
   "outputs": [],
   "source": [
    "def val_data_generator(batch_size, shuffle=True):\n",
    "    val_img_paths = []\n",
    "\n",
    "    for i, label in enumerate(class_names):\n",
    "        label_folder_path = val_folder_path + label + '/'\n",
    "        for img_name in os.listdir(label_folder_path):\n",
    "            img_path = label_folder_path + img_name\n",
    "            val_img_paths.append((img_path, i))\n",
    "\n",
    "    while True:\n",
    "        if shuffle:\n",
    "            np.random.shuffle(val_img_paths)\n",
    "        \n",
    "        for img_path_idx in range(0, len(val_img_paths), batch_size):\n",
    "            batch_paths = val_img_paths[img_path_idx:img_path_idx + batch_size]\n",
    "            batch = []\n",
    "            batch_y = []\n",
    "            for batch_img_path in batch_paths:\n",
    "                img = plt.imread(batch_img_path[0]) # img shape is (256, 256, 3)\n",
    "                # can add more pre-processing here\n",
    "                batch.append(img)\n",
    "                \n",
    "                y = [0 for _ in range(38)]\n",
    "                y[batch_img_path[1]] = 1\n",
    "                batch_y.append(y)\n",
    "            \n",
    "            yield np.array(batch), np.array(batch_y)"
   ]
  },
  {
   "cell_type": "code",
   "execution_count": 9,
   "id": "ac6e80e9",
   "metadata": {
    "execution": {
     "iopub.execute_input": "2024-02-17T16:42:09.705461Z",
     "iopub.status.busy": "2024-02-17T16:42:09.705173Z",
     "iopub.status.idle": "2024-02-17T16:42:09.709927Z",
     "shell.execute_reply": "2024-02-17T16:42:09.709013Z"
    },
    "papermill": {
     "duration": 0.01951,
     "end_time": "2024-02-17T16:42:09.712420",
     "exception": false,
     "start_time": "2024-02-17T16:42:09.692910",
     "status": "completed"
    },
    "tags": []
   },
   "outputs": [],
   "source": [
    "# # Training Image augmentation\n",
    "# train_gen = ImageDataGenerator(\n",
    "#     shear_range=0.2, zoom_range=0.2,\n",
    "#     horizontal_flip=False, \n",
    "#     vertical_flip=False,\n",
    "#     fill_mode='nearest', \n",
    "#     width_shift_range=0.2,\n",
    "#     height_shift_range=0.2\n",
    "# ) # returns shape (224, 224, 3)\n",
    "\n",
    "# train = train_gen.flow_from_directory(\n",
    "#     directory=train_folder_path,\n",
    "#     batch_size=32,\n",
    "#     target_size=(224,224),\n",
    "#     color_mode='rgb', \n",
    "#     class_mode='categorical',\n",
    "#     seed=42\n",
    "# )\n",
    "\n",
    "\n",
    "# val_gen = ImageDataGenerator()\n",
    "\n",
    "# valid = val_gen.flow_from_directory(\n",
    "#     directory=val_folder_path,\n",
    "#     batch_size=32,\n",
    "#     target_size=(224,224),\n",
    "#     color_mode='rgb',\n",
    "#     class_mode='categorical'\n",
    "# )\n"
   ]
  },
  {
   "cell_type": "markdown",
   "id": "ba321ead",
   "metadata": {
    "papermill": {
     "duration": 0.011563,
     "end_time": "2024-02-17T16:42:09.735510",
     "exception": false,
     "start_time": "2024-02-17T16:42:09.723947",
     "status": "completed"
    },
    "tags": []
   },
   "source": [
    "# Model"
   ]
  },
  {
   "cell_type": "code",
   "execution_count": 10,
   "id": "2636e829",
   "metadata": {
    "execution": {
     "iopub.execute_input": "2024-02-17T16:42:09.755225Z",
     "iopub.status.busy": "2024-02-17T16:42:09.754835Z",
     "iopub.status.idle": "2024-02-17T16:42:17.932789Z",
     "shell.execute_reply": "2024-02-17T16:42:17.931798Z"
    },
    "papermill": {
     "duration": 8.190044,
     "end_time": "2024-02-17T16:42:17.934993",
     "exception": false,
     "start_time": "2024-02-17T16:42:09.744949",
     "status": "completed"
    },
    "tags": []
   },
   "outputs": [
    {
     "name": "stdout",
     "output_type": "stream",
     "text": [
      "Downloading data from https://storage.googleapis.com/tensorflow/keras-applications/resnet/resnet50_weights_tf_dim_ordering_tf_kernels_notop.h5\n",
      "94765736/94765736 [==============================] - 4s 0us/step\n",
      "Model: \"model\"\n",
      "_________________________________________________________________\n",
      " Layer (type)                Output Shape              Param #   \n",
      "=================================================================\n",
      " input_2 (InputLayer)        [(None, 256, 256, 3)]     0         \n",
      "                                                                 \n",
      " tf.cast (TFOpLambda)        (None, 256, 256, 3)       0         \n",
      "                                                                 \n",
      " tf.__operators__.getitem (  (None, 256, 256, 3)       0         \n",
      " SlicingOpLambda)                                                \n",
      "                                                                 \n",
      " tf.nn.bias_add (TFOpLambda  (None, 256, 256, 3)       0         \n",
      " )                                                               \n",
      "                                                                 \n",
      " resnet50 (Functional)       (None, 8, 8, 2048)        23587712  \n",
      "                                                                 \n",
      " global_average_pooling2d (  (None, 2048)              0         \n",
      " GlobalAveragePooling2D)                                         \n",
      "                                                                 \n",
      " dense (Dense)               (None, 512)               1049088   \n",
      "                                                                 \n",
      " dense_1 (Dense)             (None, 128)               65664     \n",
      "                                                                 \n",
      " dense_2 (Dense)             (None, 64)                8256      \n",
      "                                                                 \n",
      " dense_3 (Dense)             (None, 38)                2470      \n",
      "                                                                 \n",
      "=================================================================\n",
      "Total params: 24713190 (94.27 MB)\n",
      "Trainable params: 1125478 (4.29 MB)\n",
      "Non-trainable params: 23587712 (89.98 MB)\n",
      "_________________________________________________________________\n"
     ]
    }
   ],
   "source": [
    "keras.backend.set_image_data_format('channels_last')\n",
    "\n",
    "base_model_tf = ResNet50(\n",
    "    include_top=False,\n",
    "    weights='imagenet',\n",
    "    input_shape=(256, 256, 3),\n",
    "    classes=38,\n",
    ")\n",
    "\n",
    "base_model_tf.trainable = False\n",
    "\n",
    "pt = Input(shape=(256, 256, 3))\n",
    "x = tf.cast(pt, tf.float32)\n",
    "x = preprocess_input(x) # to zero-center each color channel wrt Imagenet dataset\n",
    "\n",
    "model_resnet = base_model_tf(x, training=False)\n",
    "model_resnet = GlobalAveragePooling2D()(model_resnet)\n",
    "model_resnet = Dense(512, activation='relu')(model_resnet)\n",
    "model_resnet = Dense(128, activation='relu')(model_resnet)\n",
    "model_resnet = Dense(64, activation='relu')(model_resnet)\n",
    "model_resnet = Dense(38, activation='softmax')(model_resnet)\n",
    "\n",
    "\n",
    "model_main = Model(inputs=pt, outputs=model_resnet)\n",
    "model_main.summary()"
   ]
  },
  {
   "cell_type": "code",
   "execution_count": 11,
   "id": "a420ead7",
   "metadata": {
    "execution": {
     "iopub.execute_input": "2024-02-17T16:42:17.969419Z",
     "iopub.status.busy": "2024-02-17T16:42:17.969077Z",
     "iopub.status.idle": "2024-02-17T16:42:17.974372Z",
     "shell.execute_reply": "2024-02-17T16:42:17.973477Z"
    },
    "papermill": {
     "duration": 0.024656,
     "end_time": "2024-02-17T16:42:17.976431",
     "exception": false,
     "start_time": "2024-02-17T16:42:17.951775",
     "status": "completed"
    },
    "tags": []
   },
   "outputs": [],
   "source": [
    "es = EarlyStopping(\n",
    "    monitor='val_accuracy', \n",
    "    verbose=1, patience=3, mode='auto'\n",
    ")\n",
    "mc = ModelCheckpoint(\n",
    "    filepath='/content', \n",
    "    monitor='val_accuracy', \n",
    "    verbose=1, save_best_only=True\n",
    ")\n",
    "lr = ReduceLROnPlateau(\n",
    "    monitor='val_accuracy', \n",
    "    verbose=1, patience=2, min_lr=0.001\n",
    ")"
   ]
  },
  {
   "cell_type": "code",
   "execution_count": 12,
   "id": "51de383b",
   "metadata": {
    "execution": {
     "iopub.execute_input": "2024-02-17T16:42:18.012212Z",
     "iopub.status.busy": "2024-02-17T16:42:18.011831Z",
     "iopub.status.idle": "2024-02-17T17:19:08.530968Z",
     "shell.execute_reply": "2024-02-17T17:19:08.530110Z"
    },
    "papermill": {
     "duration": 2212.226408,
     "end_time": "2024-02-17T17:19:10.220185",
     "exception": false,
     "start_time": "2024-02-17T16:42:17.993777",
     "status": "completed"
    },
    "tags": []
   },
   "outputs": [
    {
     "name": "stdout",
     "output_type": "stream",
     "text": [
      "Epoch 1/10\n"
     ]
    },
    {
     "name": "stderr",
     "output_type": "stream",
     "text": [
      "WARNING: All log messages before absl::InitializeLog() is called are written to STDERR\n",
      "I0000 00:00:1708188144.939166      68 device_compiler.h:186] Compiled cluster using XLA!  This line is logged at most once for the lifetime of the process.\n"
     ]
    },
    {
     "name": "stdout",
     "output_type": "stream",
     "text": [
      "2197/2197 [==============================] - ETA: 0s - loss: 0.2565 - accuracy: 0.9217\n",
      "Epoch 1: val_accuracy improved from -inf to 0.93467, saving model to /content\n",
      "2197/2197 [==============================] - 558s 251ms/step - loss: 0.2565 - accuracy: 0.9217 - val_loss: 0.2081 - val_accuracy: 0.9347 - lr: 0.0010\n",
      "Epoch 2/10\n",
      "2197/2197 [==============================] - ETA: 0s - loss: 0.0890 - accuracy: 0.9705\n",
      "Epoch 2: val_accuracy improved from 0.93467 to 0.97331, saving model to /content\n",
      "2197/2197 [==============================] - 217s 99ms/step - loss: 0.0890 - accuracy: 0.9705 - val_loss: 0.0762 - val_accuracy: 0.9733 - lr: 0.0010\n",
      "Epoch 3/10\n",
      "2197/2197 [==============================] - ETA: 0s - loss: 0.0630 - accuracy: 0.9791\n",
      "Epoch 3: val_accuracy improved from 0.97331 to 0.97934, saving model to /content\n",
      "2197/2197 [==============================] - 216s 98ms/step - loss: 0.0630 - accuracy: 0.9791 - val_loss: 0.0594 - val_accuracy: 0.9793 - lr: 0.0010\n",
      "Epoch 4/10\n",
      "2197/2197 [==============================] - ETA: 0s - loss: 0.0504 - accuracy: 0.9839\n",
      "Epoch 4: val_accuracy improved from 0.97934 to 0.98082, saving model to /content\n",
      "2197/2197 [==============================] - 216s 98ms/step - loss: 0.0504 - accuracy: 0.9839 - val_loss: 0.0615 - val_accuracy: 0.9808 - lr: 0.0010\n",
      "Epoch 5/10\n",
      "2197/2197 [==============================] - ETA: 0s - loss: 0.0406 - accuracy: 0.9873\n",
      "Epoch 5: val_accuracy did not improve from 0.98082\n",
      "2197/2197 [==============================] - 197s 90ms/step - loss: 0.0406 - accuracy: 0.9873 - val_loss: 0.0805 - val_accuracy: 0.9769 - lr: 0.0010\n",
      "Epoch 6/10\n",
      "2197/2197 [==============================] - ETA: 0s - loss: 0.0381 - accuracy: 0.9878\n",
      "Epoch 6: val_accuracy improved from 0.98082 to 0.98287, saving model to /content\n",
      "2197/2197 [==============================] - 216s 98ms/step - loss: 0.0381 - accuracy: 0.9878 - val_loss: 0.0602 - val_accuracy: 0.9829 - lr: 0.0010\n",
      "Epoch 7/10\n",
      "2197/2197 [==============================] - ETA: 0s - loss: 0.0315 - accuracy: 0.9901\n",
      "Epoch 7: val_accuracy did not improve from 0.98287\n",
      "2197/2197 [==============================] - 197s 90ms/step - loss: 0.0315 - accuracy: 0.9901 - val_loss: 0.0589 - val_accuracy: 0.9825 - lr: 0.0010\n",
      "Epoch 8/10\n",
      "2197/2197 [==============================] - ETA: 0s - loss: 0.0267 - accuracy: 0.9918\n",
      "Epoch 8: val_accuracy did not improve from 0.98287\n",
      "2197/2197 [==============================] - 197s 90ms/step - loss: 0.0267 - accuracy: 0.9918 - val_loss: 0.0701 - val_accuracy: 0.9808 - lr: 0.0010\n",
      "Epoch 9/10\n",
      "2197/2197 [==============================] - ETA: 0s - loss: 0.0291 - accuracy: 0.9917\n",
      "Epoch 9: val_accuracy did not improve from 0.98287\n",
      "2197/2197 [==============================] - 197s 90ms/step - loss: 0.0291 - accuracy: 0.9917 - val_loss: 0.0681 - val_accuracy: 0.9816 - lr: 0.0010\n",
      "Epoch 9: early stopping\n"
     ]
    },
    {
     "data": {
      "text/plain": [
       "<keras.src.callbacks.History at 0x7a2408fcec80>"
      ]
     },
     "execution_count": 12,
     "metadata": {},
     "output_type": "execute_result"
    }
   ],
   "source": [
    "model_main.compile(optimizer='adam', loss='categorical_crossentropy', metrics=['accuracy'])\n",
    "model_main.fit(\n",
    "    train_data_generator(32),\n",
    "    validation_data=val_data_generator(32),\n",
    "    validation_steps=550,\n",
    "    epochs=10, steps_per_epoch=2197,\n",
    "    callbacks=[mc, es, lr]\n",
    ")"
   ]
  },
  {
   "cell_type": "code",
   "execution_count": 13,
   "id": "62c320f8",
   "metadata": {
    "execution": {
     "iopub.execute_input": "2024-02-17T17:19:13.511186Z",
     "iopub.status.busy": "2024-02-17T17:19:13.510720Z",
     "iopub.status.idle": "2024-02-17T17:19:13.957769Z",
     "shell.execute_reply": "2024-02-17T17:19:13.956983Z"
    },
    "papermill": {
     "duration": 2.06473,
     "end_time": "2024-02-17T17:19:13.959961",
     "exception": false,
     "start_time": "2024-02-17T17:19:11.895231",
     "status": "completed"
    },
    "tags": []
   },
   "outputs": [
    {
     "name": "stderr",
     "output_type": "stream",
     "text": [
      "/opt/conda/lib/python3.10/site-packages/keras/src/engine/training.py:3103: UserWarning: You are saving your model as an HDF5 file via `model.save()`. This file format is considered legacy. We recommend using instead the native Keras format, e.g. `model.save('my_model.keras')`.\n",
      "  saving_api.save_model(\n"
     ]
    }
   ],
   "source": [
    "model_main.save(\"resent_plant_village_final.h5\")"
   ]
  },
  {
   "cell_type": "markdown",
   "id": "f47c91c8",
   "metadata": {
    "papermill": {
     "duration": 1.682429,
     "end_time": "2024-02-17T17:19:17.360627",
     "exception": false,
     "start_time": "2024-02-17T17:19:15.678198",
     "status": "completed"
    },
    "tags": []
   },
   "source": [
    "## Training and Validation Data Viz"
   ]
  },
  {
   "cell_type": "code",
   "execution_count": 14,
   "id": "5dc70ec6",
   "metadata": {
    "execution": {
     "iopub.execute_input": "2024-02-17T17:19:20.739441Z",
     "iopub.status.busy": "2024-02-17T17:19:20.738513Z",
     "iopub.status.idle": "2024-02-17T17:19:20.999857Z",
     "shell.execute_reply": "2024-02-17T17:19:20.998753Z"
    },
    "papermill": {
     "duration": 1.943474,
     "end_time": "2024-02-17T17:19:21.001861",
     "exception": false,
     "start_time": "2024-02-17T17:19:19.058387",
     "status": "completed"
    },
    "tags": []
   },
   "outputs": [
    {
     "data": {
      "text/plain": [
       "Text(0.5, 1.0, 'loss')"
      ]
     },
     "execution_count": 14,
     "metadata": {},
     "output_type": "execute_result"
    },
    {
     "data": {
      "image/png": "[encoded data removed]",
      "text/plain": [
       "<Figure size 1000x500 with 1 Axes>"
      ]
     },
     "metadata": {},
     "output_type": "display_data"
    }
   ],
   "source": [
    "plt.figure(figsize=(10,5))\n",
    "plt.plot(model_main.history.history['loss'], color='b', label='Training loss')\n",
    "plt.plot(model_main.history.history['val_loss'], color='r', label='Validation loss')\n",
    "plt.xlabel(\"epochs\")\n",
    "plt.ylabel(\"loss_value\")\n",
    "plt.title(\"loss\")"
   ]
  },
  {
   "cell_type": "code",
   "execution_count": 15,
   "id": "a2b87c32",
   "metadata": {
    "execution": {
     "iopub.execute_input": "2024-02-17T17:19:24.293535Z",
     "iopub.status.busy": "2024-02-17T17:19:24.292542Z",
     "iopub.status.idle": "2024-02-17T17:19:24.570973Z",
     "shell.execute_reply": "2024-02-17T17:19:24.569953Z"
    },
    "papermill": {
     "duration": 1.937168,
     "end_time": "2024-02-17T17:19:24.573203",
     "exception": false,
     "start_time": "2024-02-17T17:19:22.636035",
     "status": "completed"
    },
    "tags": []
   },
   "outputs": [
    {
     "data": {
      "text/plain": [
       "Text(0.5, 1.0, 'accuracy graph')"
      ]
     },
     "execution_count": 15,
     "metadata": {},
     "output_type": "execute_result"
    },
    {
     "data": {
      "image/png": "[encoded data removed]",
      "text/plain": [
       "<Figure size 1000x500 with 1 Axes>"
      ]
     },
     "metadata": {},
     "output_type": "display_data"
    }
   ],
   "source": [
    "plt.figure(figsize=(10,5))\n",
    "plt.plot(model_main.history.history['accuracy'],color='b',label='Training accuracy')\n",
    "plt.plot(model_main.history.history['val_accuracy'],color='r',label='Validation accsuracy')\n",
    "plt.xlabel(\"epochs\")\n",
    "plt.ylabel(\"accuracy\")\n",
    "plt.title(\"accuracy graph\")"
   ]
  },
  {
   "cell_type": "markdown",
   "id": "3ee74ef4",
   "metadata": {
    "papermill": {
     "duration": 1.588304,
     "end_time": "2024-02-17T17:19:27.837317",
     "exception": false,
     "start_time": "2024-02-17T17:19:26.249013",
     "status": "completed"
    },
    "tags": []
   },
   "source": [
    "# Testing"
   ]
  },
  {
   "cell_type": "code",
   "execution_count": 16,
   "id": "e2a3d298",
   "metadata": {
    "execution": {
     "iopub.execute_input": "2024-02-17T17:19:31.208298Z",
     "iopub.status.busy": "2024-02-17T17:19:31.207685Z",
     "iopub.status.idle": "2024-02-17T17:19:33.606570Z",
     "shell.execute_reply": "2024-02-17T17:19:33.605757Z"
    },
    "papermill": {
     "duration": 4.063578,
     "end_time": "2024-02-17T17:19:33.608968",
     "exception": false,
     "start_time": "2024-02-17T17:19:29.545390",
     "status": "completed"
    },
    "tags": []
   },
   "outputs": [],
   "source": [
    "loaded_model = load_model(\"/kaggle/working/resent_plant_village_final.h5\")"
   ]
  },
  {
   "cell_type": "code",
   "execution_count": 17,
   "id": "9bc3427b",
   "metadata": {
    "execution": {
     "iopub.execute_input": "2024-02-17T17:19:36.938285Z",
     "iopub.status.busy": "2024-02-17T17:19:36.937858Z",
     "iopub.status.idle": "2024-02-17T17:19:36.944030Z",
     "shell.execute_reply": "2024-02-17T17:19:36.943157Z"
    },
    "papermill": {
     "duration": 1.629575,
     "end_time": "2024-02-17T17:19:36.945992",
     "exception": false,
     "start_time": "2024-02-17T17:19:35.316417",
     "status": "completed"
    },
    "tags": []
   },
   "outputs": [],
   "source": [
    "def manual_encode(img_path):\n",
    "    if \"AppleCedarRust\" in img_path:\n",
    "        return 20\n",
    "    if \"AppleScab\" in img_path:\n",
    "        return 13\n",
    "    if \"CornCommonRust\" in img_path:\n",
    "        return 31\n",
    "    if \"PotatoEarlyBlight\" in img_path:\n",
    "        return 29\n",
    "    if \"PotatoHealthy\" in img_path:\n",
    "        return 6\n",
    "    if \"TomatoEarly\" in img_path:\n",
    "        return 8\n",
    "    if \"TomatoHealthy\" in img_path:\n",
    "        return 1\n",
    "    if \"TomatoYellow\" in img_path:\n",
    "        return 14\n",
    "    "
   ]
  },
  {
   "cell_type": "code",
   "execution_count": 18,
   "id": "bc310f0a",
   "metadata": {
    "execution": {
     "iopub.execute_input": "2024-02-17T17:19:40.287895Z",
     "iopub.status.busy": "2024-02-17T17:19:40.287509Z",
     "iopub.status.idle": "2024-02-17T17:19:40.295680Z",
     "shell.execute_reply": "2024-02-17T17:19:40.294910Z"
    },
    "papermill": {
     "duration": 1.695988,
     "end_time": "2024-02-17T17:19:40.297674",
     "exception": false,
     "start_time": "2024-02-17T17:19:38.601686",
     "status": "completed"
    },
    "tags": []
   },
   "outputs": [],
   "source": [
    "def test_data_generator(batch_size, shuffle=True):\n",
    "    test_paths = []\n",
    "    for img_path in os.listdir(test_folder_path):\n",
    "        test_paths.append(test_folder_path + img_path)\n",
    "    \n",
    "    if shuffle:\n",
    "        test_paths = np.array(test_paths)\n",
    "        np.random.shuffle(test_paths)\n",
    "    \n",
    "    for test_idx in range(0, len(test_paths), batch_size):\n",
    "        batch = []\n",
    "        batch_y = []\n",
    "        for test_batch_idx in range(test_idx, test_idx + batch_size):\n",
    "            img_path = test_paths[test_batch_idx]\n",
    "            batch.append(cv2.imread(img_path))\n",
    "            \n",
    "            y = [0 for _ in range(38)]\n",
    "            y[manual_encode(img_path)] = 1\n",
    "            batch_y.append(y)\n",
    "            \n",
    "        \n",
    "        batch = np.array(batch); batch_y = np.array(batch_y)\n",
    "        yield batch, batch_y"
   ]
  },
  {
   "cell_type": "code",
   "execution_count": 19,
   "id": "ae309db5",
   "metadata": {
    "execution": {
     "iopub.execute_input": "2024-02-17T17:19:43.632440Z",
     "iopub.status.busy": "2024-02-17T17:19:43.631673Z",
     "iopub.status.idle": "2024-02-17T17:19:46.064135Z",
     "shell.execute_reply": "2024-02-17T17:19:46.063117Z"
    },
    "papermill": {
     "duration": 4.091163,
     "end_time": "2024-02-17T17:19:46.067293",
     "exception": false,
     "start_time": "2024-02-17T17:19:41.976130",
     "status": "completed"
    },
    "tags": []
   },
   "outputs": [
    {
     "name": "stdout",
     "output_type": "stream",
     "text": [
      "33/33 [==============================] - 2s 16ms/step - loss: 2.6536 - accuracy: 0.6667\n"
     ]
    }
   ],
   "source": [
    "predictions = loaded_model.evaluate(test_data_generator(1, False))"
   ]
  }
 ],
 "metadata": {
  "kaggle": {
   "accelerator": "gpu",
   "dataSources": [
    {
     "datasetId": 78313,
     "sourceId": 182633,
     "sourceType": "datasetVersion"
    }
   ],
   "dockerImageVersionId": 30648,
   "isGpuEnabled": true,
   "isInternetEnabled": true,
   "language": "python",
   "sourceType": "notebook"
  },
  "kernelspec": {
   "display_name": "Python 3",
   "language": "python",
   "name": "python3"
  },
  "language_info": {
   "codemirror_mode": {
    "name": "ipython",
    "version": 3
   },
   "file_extension": ".py",
   "mimetype": "text/x-python",
   "name": "python",
   "nbconvert_exporter": "python",
   "pygments_lexer": "ipython3",
   "version": "3.11.8"
  },
  "papermill": {
   "default_parameters": {},
   "duration": 2281.203965,
   "end_time": "2024-02-17T17:19:50.742719",
   "environment_variables": {},
   "exception": null,
   "input_path": "__notebook__.ipynb",
   "output_path": "__notebook__.ipynb",
   "parameters": {},
   "start_time": "2024-02-17T16:41:49.538754",
   "version": "2.5.0"
  }
 },
 "nbformat": 4,
 "nbformat_minor": 5
}
